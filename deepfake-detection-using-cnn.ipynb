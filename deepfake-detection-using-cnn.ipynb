{
 "cells": [
  {
   "cell_type": "code",
   "execution_count": null,
   "metadata": {
    "_cell_guid": "b1076dfc-b9ad-4769-8c92-a6c4dae69d19",
    "_uuid": "8f2839f25d086af736a60e9eeb907d3b93b6e0e5",
    "collapsed": true,
    "jupyter": {
     "outputs_hidden": true
    },
    "trusted": true
   },
   "outputs": [],
   "source": [
    "# This Python 3 environment comes with many helpful analytics libraries installed\n",
    "# It is defined by the kaggle/python Docker image: https://github.com/kaggle/docker-python\n",
    "# For example, here's several helpful packages to load\n",
    "\n",
    "import numpy as np # linear algebra\n",
    "import pandas as pd # data processing, CSV file I/O (e.g. pd.read_csv)\n",
    "\n",
    "# Input data files are available in the read-only \"../input/\" directory\n",
    "# For example, running this (by clicking run or pressing Shift+Enter) will list all files under the input directory\n",
    "\n",
    "import os\n",
    "for dirname, _, filenames in os.walk('/kaggle/input'):\n",
    "    for filename in filenames:\n",
    "        print(os.path.join(dirname, filename))\n",
    "\n",
    "# You can write up to 20GB to the current directory (/kaggle/working/) that gets preserved as output when you create a version using \"Save & Run All\" \n",
    "# You can also write temporary files to /kaggle/temp/, but they won't be saved outside of the current session"
   ]
  },
  {
   "cell_type": "code",
   "execution_count": null,
   "metadata": {
    "execution": {
     "iopub.execute_input": "2025-03-04T03:37:13.959025Z",
     "iopub.status.busy": "2025-03-04T03:37:13.958721Z",
     "iopub.status.idle": "2025-03-04T03:37:34.436838Z",
     "shell.execute_reply": "2025-03-04T03:37:34.436131Z",
     "shell.execute_reply.started": "2025-03-04T03:37:13.958986Z"
    },
    "trusted": true
   },
   "outputs": [],
   "source": [
    "import os\n",
    "import cv2\n",
    "import shutil\n",
    "import random\n",
    "import glob\n",
    "import numpy as np \n",
    "import pandas as pd\n",
    "# Torch & torchvision\n",
    "import torch\n",
    "import torch.nn as nn\n",
    "import torch.optim as optim\n",
    "from torchvision import transforms, datasets, models\n",
    "from torch.utils.data import DataLoader"
   ]
  },
  {
   "cell_type": "code",
   "execution_count": null,
   "metadata": {
    "trusted": true
   },
   "outputs": [],
   "source": [
    "def extract_frames_at_intervals(video_path_pattern, output_dir, interval):\n",
    "    os.makedirs(output_dir, exist_ok=True)\n",
    "    \n",
    "    # Lấy danh sách tất cả các video từ pattern\n",
    "    \n",
    "    if not video_files:\n",
    "        print(\"No video files found!\")\n",
    "        return\n",
    "\n",
    "    for video_path in video_files:\n",
    "        cap = cv2.VideoCapture(video_path)\n",
    "        count = 0\n",
    "        video_name = os.path.basename(video_path).split('.')[0]  # Lấy tên file không có đuôi\n",
    "        \n",
    "        while cap.isOpened():\n",
    "            ret, frame = cap.read()\n",
    "            if not ret:\n",
    "                break\n",
    "            if count % interval == 0:\n",
    "                frame_filename = os.path.join(output_dir, f\"{video_name}_frame_{count}.jpg\")\n",
    "                cv2.imwrite(frame_filename, frame)\n",
    "            count += 1\n",
    "        \n",
    "        cap.release()\n",
    "        print(f\"Frames extracted from {frame_filename} saved in {output_dir}\")"
   ]
  },
  {
   "cell_type": "code",
   "execution_count": null,
   "metadata": {
    "trusted": true
   },
   "outputs": [],
   "source": [
    "# Example usage\n",
    "video_files =  glob.glob('/kaggle/input/celeb-v1-df/Celeb-real/*.mp4')\n",
    "video_files +=  glob.glob('/kaggle/input/celeb-v1-df/YouTube-real/*.mp4')\n",
    "video_files +=  glob.glob('/kaggle/input/celeb-df-v2/Celeb-real/*.mp4')\n",
    "video_files +=  glob.glob('/kaggle/input/celeb-df-v2/YouTube-real/*.mp4')\n",
    "output_dir = 'real_output_frames'    \n",
    "interval = 30                   \n",
    "extract_frames_at_intervals(video_files, output_dir, interval)"
   ]
  },
  {
   "cell_type": "code",
   "execution_count": null,
   "metadata": {
    "trusted": true
   },
   "outputs": [],
   "source": [
    "\n",
    "video_files_fake += glob.glob('/kaggle/input/celeb-df-v2/Celeb-synthesis/*.mp4')\n",
    "output_dir_fake = 'fake_output_frames'    \n",
    "interval = 30                   \n",
    "extract_frames_at_intervals(video_files_fake, output_dir_fake, interval)"
   ]
  },
  {
   "cell_type": "code",
   "execution_count": null,
   "metadata": {
    "trusted": true
   },
   "outputs": [],
   "source": [
    "def detect_faces_and_context(input_dir, output_dir, face_cascade_path=None, padding=30):\n",
    "    # Kiểm tra đường dẫn của Haarcascade\n",
    "    if face_cascade_path is None:\n",
    "        face_cascade_path = cv2.data.haarcascades + \"haarcascade_frontalface_default.xml\"\n",
    "    \n",
    "    roi_dir = os.path.join(output_dir, 'ROI')\n",
    "    context_dir = os.path.join(output_dir, 'Surrounding_Context')\n",
    "    os.makedirs(roi_dir, exist_ok=True)\n",
    "    os.makedirs(context_dir, exist_ok=True)\n",
    "    \n",
    "    \n",
    "    face_cascade = cv2.CascadeClassifier(face_cascade_path)\n",
    "    \n",
    "    \n",
    "    for filename in os.listdir(input_dir):\n",
    "        if filename.endswith(\".jpg\"):\n",
    "            img_path = os.path.join(input_dir, filename)\n",
    "            img = cv2.imread(img_path)\n",
    "            if img is None:\n",
    "                print(f\"Error: Could not load image {img_path}\")\n",
    "                continue\n",
    "\n",
    "            gray = cv2.cvtColor(img, cv2.COLOR_BGR2GRAY)\n",
    "            \n",
    "            \n",
    "            faces = face_cascade.detectMultiScale(gray, scaleFactor=1.1, minNeighbors=5, minSize=(30, 30))\n",
    "            \n",
    "            for i, (x, y, w, h) in enumerate(faces):\n",
    "               \n",
    "                roi_filename = os.path.join(roi_dir, f\"{filename[:-4]}_face_{i}.jpg\")\n",
    "                context_filename = os.path.join(context_dir, f\"{filename[:-4]}_context_{i}.jpg\")\n",
    "                \n",
    "            \n",
    "                if os.path.exists(roi_filename) and os.path.exists(context_filename):\n",
    "                    print(f\"Skipping {filename}: face {i} already processed\")\n",
    "                    continue\n",
    "                \n",
    "               \n",
    "                face = img[y:y+h, x:x+w]\n",
    "                cv2.imwrite(roi_filename, face)\n",
    "\n",
    "                \n",
    "                x1 = max(x - padding, 0)\n",
    "                y1 = max(y - padding, 0)\n",
    "                x2 = min(x + w + padding, img.shape[1])\n",
    "                y2 = min(y + h + padding, img.shape[0])\n",
    "                context = img[y1:y2, x1:x2]\n",
    "                cv2.imwrite(context_filename, context)\n",
    "\n",
    "            print(f\"Processed {filename}: {len(faces)} face(s) detected\")"
   ]
  },
  {
   "cell_type": "code",
   "execution_count": null,
   "metadata": {
    "trusted": true
   },
   "outputs": [],
   "source": [
    "input_dir_real = 'real_output_frames'         \n",
    "output_dir_real = 'real_output_faces_context' \n",
    "detect_faces_and_context(input_dir_real, output_dir_real)"
   ]
  },
  {
   "cell_type": "code",
   "execution_count": null,
   "metadata": {
    "trusted": true
   },
   "outputs": [],
   "source": [
    "\n",
    "input_dir_fake = 'fake_output_frames'         \n",
    "output_dir_fake = 'fake_output_faces_context' \n",
    "detect_faces_and_context(input_dir_fake, output_dir_fake)"
   ]
  },
  {
   "cell_type": "code",
   "execution_count": null,
   "metadata": {
    "trusted": true
   },
   "outputs": [],
   "source": [
    "def split_data(real_dir, fake_dir, output_base, train_ratio=0.7, val_ratio=0.15, test_ratio=0.15):\n",
    "    assert train_ratio + val_ratio + test_ratio == 1,\n",
    "\n",
    "   \n",
    "    train_real = os.path.join(output_base, \"train\", \"real\")\n",
    "    train_fake = os.path.join(output_base, \"train\", \"fake\")\n",
    "    val_real = os.path.join(output_base, \"val\", \"real\")\n",
    "    val_fake = os.path.join(output_base, \"val\", \"fake\")\n",
    "    test_real = os.path.join(output_base, \"test\", \"real\")\n",
    "    test_fake = os.path.join(output_base, \"test\", \"fake\")\n",
    "\n",
    "    \n",
    "    for folder in [train_real, train_fake, val_real, val_fake, test_real, test_fake]:\n",
    "        os.makedirs(folder, exist_ok=True)\n",
    "\n",
    "    def split_and_copy(src_dir, train_dst, val_dst, test_dst):\n",
    "        files = [f for f in os.listdir(src_dir) if f.endswith(\".jpg\")]\n",
    "        random.shuffle(files)\n",
    "\n",
    "        total = len(files)\n",
    "        train_idx = int(total * train_ratio)\n",
    "        val_idx = train_idx + int(total * val_ratio)\n",
    "\n",
    "        train_files = files[:train_idx]\n",
    "        val_files = files[train_idx:val_idx]\n",
    "        test_files = files[val_idx:]\n",
    "\n",
    "        for f in train_files:\n",
    "            shutil.copy(os.path.join(src_dir, f), os.path.join(train_dst, f))\n",
    "        for f in val_files:\n",
    "            shutil.copy(os.path.join(src_dir, f), os.path.join(val_dst, f))\n",
    "        for f in test_files:\n",
    "            shutil.copy(os.path.join(src_dir, f), os.path.join(test_dst, f))\n",
    "\n",
    "        print(f\"{src_dir}: {len(train_files)} train, {len(val_files)} val, {len(test_files)} test\")\n",
    "\n",
    "    \n",
    "    split_and_copy(real_dir, train_real, val_real, test_real)\n",
    "    split_and_copy(fake_dir, train_fake, val_fake, test_fake)"
   ]
  },
  {
   "cell_type": "code",
   "execution_count": null,
   "metadata": {},
   "outputs": [],
   "source": [
    "real_faces_dir = \"/kaggle/working/real_output_faces_context/ROI\" \n",
    "fake_faces_dir = \"/kaggle/working/fake_output_faces_context/ROI\" \n",
    "output_dir = \"/kaggle/working/split_data\" \n",
    "\n",
    "split_data(real_faces_dir, fake_faces_dir, output_dir)"
   ]
  },
  {
   "cell_type": "code",
   "execution_count": null,
   "metadata": {
    "trusted": true
   },
   "outputs": [],
   "source": [
    "\n",
    "\n",
    "def get_dataloaders(data_dir, batch_size=32, image_size=224):\n",
    "    \n",
    "    transform = {\n",
    "        'train': transforms.Compose([\n",
    "            transforms.Resize((image_size, image_size)),\n",
    "            transforms.ToTensor(),\n",
    "            transforms.Normalize(mean=[0.485, 0.456, 0.406], std=[0.229, 0.224, 0.225])\n",
    "        ]),\n",
    "        'val': transforms.Compose([\n",
    "            transforms.Resize((image_size, image_size)),\n",
    "            transforms.ToTensor(),\n",
    "            transforms.Normalize(mean=[0.485, 0.456, 0.406], std=[0.229, 0.224, 0.225])\n",
    "        ]),\n",
    "        'test': transforms.Compose([\n",
    "            transforms.Resize((image_size, image_size)),\n",
    "            transforms.ToTensor(),\n",
    "            transforms.Normalize(mean=[0.485, 0.456, 0.406], std=[0.229, 0.224, 0.225])\n",
    "        ])\n",
    "    }\n",
    "\n",
    "    \n",
    "    train_dataset = datasets.ImageFolder(root=f\"{data_dir}/train\", transform=transform['train'])\n",
    "    val_dataset = datasets.ImageFolder(root=f\"{data_dir}/val\", transform=transform['val'])\n",
    "    test_dataset = datasets.ImageFolder(root=f\"{data_dir}/test\", transform=transform['test'])\n",
    "\n",
    "    \n",
    "    train_loader = DataLoader(train_dataset, batch_size=batch_size, shuffle=True, num_workers=2)\n",
    "    val_loader = DataLoader(val_dataset, batch_size=batch_size, shuffle=False, num_workers=2)\n",
    "    test_loader = DataLoader(test_dataset, batch_size=batch_size, shuffle=False, num_workers=2)\n",
    "\n",
    "    return train_loader, val_loader, test_loader\n",
    "\n",
    "\n",
    "train_loader, val_loader, test_loader = get_dataloaders(\"/kaggle/working/split_data\")\n"
   ]
  },
  {
   "cell_type": "code",
   "execution_count": null,
   "metadata": {
    "trusted": true
   },
   "outputs": [],
   "source": [
    "\n",
    "device = torch.device(\"cpu\")\n",
    "model = models.resnet50(pretrained=True)\n",
    "model.fc = nn.Linear(model.fc.in_features, 2)\n",
    "model = model.to(device)\n",
    "\n",
    "\n",
    "criterion = nn.CrossEntropyLoss()\n",
    "optimizer = optim.Adam(model.parameters(), lr=0.0001)"
   ]
  },
  {
   "cell_type": "code",
   "execution_count": null,
   "metadata": {
    "trusted": true
   },
   "outputs": [],
   "source": [
    "num_epochs = 10\n",
    "for epoch in range(num_epochs):\n",
    "    model.train()\n",
    "    running_loss = 0.0\n",
    "    correct = 0\n",
    "    total = 0\n",
    "\n",
    "    for batch_idx, (images, labels) in enumerate(train_loader):\n",
    "        images, labels = images.to(device), labels.to(device)\n",
    "\n",
    "        optimizer.zero_grad()\n",
    "        outputs = model(images)\n",
    "        loss = criterion(outputs, labels)\n",
    "        loss.backward()\n",
    "        optimizer.step()\n",
    "\n",
    "        running_loss += loss.item()\n",
    "\n",
    "        \n",
    "        _, predicted = torch.max(outputs, 1)\n",
    "        correct += (predicted == labels).sum().item()\n",
    "        total += labels.size(0)\n",
    "\n",
    "        \n",
    "        if (batch_idx + 1) % 100 == 0:\n",
    "            accuracy = 100 * correct / total\n",
    "            print(f\"Epoch [{epoch+1}/{num_epochs}], Batch [{batch_idx+1}/{len(train_loader)}], \"\n",
    "                  f\"Loss: {running_loss / (batch_idx + 1):.4f}, Accuracy: {accuracy:.2f}%\")\n",
    "\n",
    "    \n",
    "    epoch_accuracy = 100 * correct / total\n",
    "    print(f\"Epoch [{epoch+1}/{num_epochs}] completed - Average Loss: {running_loss / len(train_loader):.4f}, \"\n",
    "          f\"Final Accuracy: {epoch_accuracy:.2f}%\")\n",
    "\n",
    "print(\"Training finished!\")\n"
   ]
  },
  {
   "cell_type": "code",
   "execution_count": null,
   "metadata": {
    "trusted": true
   },
   "outputs": [],
   "source": []
  }
 ],
 "metadata": {
  "kaggle": {
   "accelerator": "nvidiaTeslaT4",
   "dataSources": [
    {
     "datasetId": 3120670,
     "sourceId": 5380830,
     "sourceType": "datasetVersion"
    },
    {
     "datasetId": 4500154,
     "sourceId": 7707602,
     "sourceType": "datasetVersion"
    }
   ],
   "dockerImageVersionId": 30919,
   "isGpuEnabled": true,
   "isInternetEnabled": true,
   "language": "python",
   "sourceType": "notebook"
  },
  "kernelspec": {
   "display_name": "Python 3",
   "language": "python",
   "name": "python3"
  },
  "language_info": {
   "codemirror_mode": {
    "name": "ipython",
    "version": 3
   },
   "file_extension": ".py",
   "mimetype": "text/x-python",
   "name": "python",
   "nbconvert_exporter": "python",
   "pygments_lexer": "ipython3",
   "version": "3.10.12"
  }
 },
 "nbformat": 4,
 "nbformat_minor": 4
}
